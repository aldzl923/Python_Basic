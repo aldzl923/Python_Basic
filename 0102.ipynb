{
 "cells": [
  {
   "cell_type": "code",
   "execution_count": 4,
   "metadata": {},
   "outputs": [
    {
     "name": "stdout",
     "output_type": "stream",
     "text": [
      "hello world\n"
     ]
    }
   ],
   "source": [
    "print(\"hello world\")"
   ]
  },
  {
   "cell_type": "code",
   "execution_count": 6,
   "metadata": {},
   "outputs": [
    {
     "name": "stdout",
     "output_type": "stream",
     "text": [
      "7\n"
     ]
    }
   ],
   "source": [
    "a=3\n",
    "b=4\n",
    "\n",
    "print(a+b)"
   ]
  },
  {
   "cell_type": "markdown",
   "metadata": {},
   "source": []
  },
  {
   "cell_type": "markdown",
   "metadata": {},
   "source": [
    "이건 제목입니다\n",
    "두번째 제목입니다\n",
    "\n",
    "###markdown"
   ]
  },
  {
   "cell_type": "code",
   "execution_count": 13,
   "metadata": {},
   "outputs": [
    {
     "name": "stdout",
     "output_type": "stream",
     "text": [
      "['False', 'None', 'True', 'and', 'as', 'assert', 'async', 'await', 'break', 'class', 'continue', 'def', 'del', 'elif', 'else', 'except', 'finally', 'for', 'from', 'global', 'if', 'import', 'in', 'is', 'lambda', 'nonlocal', 'not', 'or', 'pass', 'raise', 'return', 'try', 'while', 'with', 'yield']\n"
     ]
    }
   ],
   "source": [
    "import keyword\n",
    "print(keyword.kwlist)"
   ]
  },
  {
   "cell_type": "code",
   "execution_count": 26,
   "metadata": {},
   "outputs": [
    {
     "name": "stdout",
     "output_type": "stream",
     "text": [
      "Helloworld\n"
     ]
    }
   ],
   "source": [
    "print(\"Hello\", end=\"\")\n",
    "print(\"world\")"
   ]
  },
  {
   "cell_type": "code",
   "execution_count": 28,
   "metadata": {},
   "outputs": [
    {
     "name": "stdout",
     "output_type": "stream",
     "text": [
      "이름은 mingi, 나이는 28, 사는곳은 daegu, 키는 188\n"
     ]
    }
   ],
   "source": [
    "myname = \"mingi\"\n",
    "age = 28\n",
    "add = \"daegu\"\n",
    "height = 188\n",
    "\n",
    "print(f\"이름은 {myname}, 나이는 {age}, 사는곳은 {add}, 키는 {height}\")\n"
   ]
  },
  {
   "cell_type": "code",
   "execution_count": 41,
   "metadata": {},
   "outputs": [],
   "source": [
    "a = int(input(\"숫자를 넣어주세요\"))"
   ]
  },
  {
   "cell_type": "code",
   "execution_count": 89,
   "metadata": {},
   "outputs": [
    {
     "name": "stdout",
     "output_type": "stream",
     "text": [
      "|\\_/|\n",
      "|q p|   /}\n",
      "( 0 )\"\"\"\\\n",
      "|\"^\"'    |\n",
      "||_/=\\\\__|\n"
     ]
    }
   ],
   "source": [
    "print(\"|\\\\_/|\")\n",
    "print('|q p|   /}')\n",
    "print('( 0 )\"\"\"\\\\')\n",
    "print(\"|\\\"^\\\"'    |\")\n",
    "print(\"||_/=\\\\\\\\__|\")"
   ]
  },
  {
   "cell_type": "code",
   "execution_count": 118,
   "metadata": {},
   "outputs": [
    {
     "data": {
      "text/plain": [
       "'pple'"
      ]
     },
     "execution_count": 118,
     "metadata": {},
     "output_type": "execute_result"
    }
   ],
   "source": [
    "\"apple\"[1:5:1]"
   ]
  },
  {
   "cell_type": "code",
   "execution_count": 122,
   "metadata": {},
   "outputs": [
    {
     "name": "stdout",
     "output_type": "stream",
     "text": [
      "안녕하세요! 홍길동님 (100세) \n"
     ]
    }
   ],
   "source": [
    "name = input(\"이름을 입력하세요\")\n",
    "age = input(\"나이를 입력하세요\")\n",
    "print(f\"안녕하세요! {name}님 ({age}세) \")"
   ]
  },
  {
   "cell_type": "code",
   "execution_count": 135,
   "metadata": {},
   "outputs": [
    {
     "name": "stdout",
     "output_type": "stream",
     "text": [
      "올해는2023, 홍길동님의 나이는 (14세입니다) \n"
     ]
    }
   ],
   "source": [
    "name = input(\"이름을 입력하세요\")\n",
    "born = input(\"태어난 년도를 입력하세요\")\n",
    "year = input(\"올해 년도를 입력하세요\")\n",
    "age = int(year) - int(born)\n",
    "print(f\"올해는{year}, {name}님의 나이는 ({age+1}세입니다) \")"
   ]
  },
  {
   "cell_type": "code",
   "execution_count": 150,
   "metadata": {},
   "outputs": [
    {
     "name": "stdout",
     "output_type": "stream",
     "text": [
      "2360\n",
      "3776\n",
      "1416\n",
      "181720\n"
     ]
    }
   ],
   "source": [
    "a=472\n",
    "b=385\n",
    "\n",
    "sol1 = 472*5\n",
    "sol2 = (472*8)\n",
    "sol3 = (472*3)\n",
    "print(sol1)\n",
    "print(sol2)\n",
    "print(sol3)\n",
    "\n",
    "print(int(sol1*1)+(int(sol2)*10)+int(sol3)*100)"
   ]
  },
  {
   "cell_type": "code",
   "execution_count": 159,
   "metadata": {},
   "outputs": [
    {
     "name": "stdout",
     "output_type": "stream",
     "text": [
      "[6, 8, 3, 2, 1]\n"
     ]
    }
   ],
   "source": [
    "a=[1,2,3,8,6]\n",
    "a.reverse()\n",
    "print(a)"
   ]
  },
  {
   "cell_type": "code",
   "execution_count": 19,
   "metadata": {},
   "outputs": [
    {
     "name": "stdout",
     "output_type": "stream",
     "text": [
      "yellow\n",
      "['blue', 'green', 'indigo', 'orange', 'purple', 'red', 'yellow']\n",
      "['red', 'orange', 'yellow', 'green', 'blue', 'indigo', 'purple', 'black']\n",
      "['red', 'orange', 'purple', 'black']\n"
     ]
    }
   ],
   "source": [
    "rainbow = ['red', 'orange', 'yellow', 'green', 'blue', 'indigo', 'purple']\n",
    "print(rainbow[2])\n",
    "print(sorted(rainbow))\n",
    "rainbow.append('black')\n",
    "print(rainbow)\n",
    "del rainbow[2:6]\n",
    "print(rainbow)\n"
   ]
  },
  {
   "cell_type": "code",
   "execution_count": 7,
   "metadata": {},
   "outputs": [
    {
     "name": "stdout",
     "output_type": "stream",
     "text": [
      "a>b\n"
     ]
    }
   ],
   "source": [
    "a = 4\n",
    "b = 3\n",
    "\n",
    "if a>b :\n",
    "  print(\"a>b\")"
   ]
  },
  {
   "cell_type": "code",
   "execution_count": 18,
   "metadata": {},
   "outputs": [
    {
     "name": "stdout",
     "output_type": "stream",
     "text": [
      "1293289319238921.2는 홀수입니다.\n"
     ]
    }
   ],
   "source": [
    "int(a) == 1293289319238921.32131\n",
    "\n",
    "if a % 2 == 0:\n",
    "    print(f\"{a}는 짝수입니다.\")\n",
    "else:\n",
    "    print(f\"{a}는 홀수입니다.\")"
   ]
  },
  {
   "cell_type": "code",
   "execution_count": 30,
   "metadata": {},
   "outputs": [
    {
     "name": "stdout",
     "output_type": "stream",
     "text": [
      "E\n"
     ]
    }
   ],
   "source": [
    "a = int(input(\"점수: \"))\n",
    "if a >= 90:\n",
    "  print(\"A\")\n",
    "elif a >= 80:\n",
    "  print(\"B\")\n",
    "elif a >= 70:\n",
    "  print(\"C\")\n",
    "elif a >= 60:\n",
    "  print(\"D\")\n",
    "else:\n",
    "  print(\"E\")"
   ]
  },
  {
   "cell_type": "code",
   "execution_count": 49,
   "metadata": {},
   "outputs": [
    {
     "name": "stdout",
     "output_type": "stream",
     "text": [
      "다시 입력해주세요\n"
     ]
    }
   ],
   "source": [
    "age = int(input(\"나이: \"))\n",
    "MOP = input(\"Card or Cash: \")\n",
    "if age < 8:\n",
    "  print(\"무료\")\n",
    "elif age < 14:\n",
    "  print(\"450원\")\n",
    "elif age < 20:\n",
    "  if MOP == \"Card\":\n",
    "    print(\"720원\")\n",
    "  elif MOP == \"Cash\":\n",
    "    print(\"1000원\")\n",
    "  else:\n",
    "    print(\"다시 입력해주세요\")\n",
    "elif age < 75:\n",
    "  if MOP == \"Card\":\n",
    "    print(\"1200원\")\n",
    "  elif MOP == \"Cash\":\n",
    "    print(\"1300원\")\n",
    "  else:\n",
    "    print(\"다시 입력해주세요\")\n",
    "else:\n",
    "    print(\"무료\")"
   ]
  },
  {
   "cell_type": "code",
   "execution_count": 1,
   "metadata": {},
   "outputs": [
    {
     "name": "stdout",
     "output_type": "stream",
     "text": [
      "<class 'list'>\n",
      "cba\n"
     ]
    }
   ],
   "source": [
    "mylist = list(\"abc\")\n",
    "mylist.reverse()\n",
    "print(type(mylist))\n",
    "print(*mylist, sep=\"\")"
   ]
  }
 ],
 "metadata": {
  "kernelspec": {
   "display_name": "base",
   "language": "python",
   "name": "python3"
  },
  "language_info": {
   "codemirror_mode": {
    "name": "ipython",
    "version": 3
   },
   "file_extension": ".py",
   "mimetype": "text/x-python",
   "name": "python",
   "nbconvert_exporter": "python",
   "pygments_lexer": "ipython3",
   "version": "3.11.5"
  }
 },
 "nbformat": 4,
 "nbformat_minor": 2
}
