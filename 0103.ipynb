{
 "cells": [
  {
   "cell_type": "code",
   "execution_count": 5,
   "metadata": {},
   "outputs": [
    {
     "name": "stdout",
     "output_type": "stream",
     "text": [
      "abc\n"
     ]
    }
   ],
   "source": [
    "#print(a)\n",
    "list_ = list(\"abc\")\n",
    "tuple_ = (1,2,3)\n",
    "\n",
    "mystr =\"\"\n",
    "for str in list_:\n",
    "  mystr = mystr + str\n",
    "  \n",
    "print(mystr)"
   ]
  },
  {
   "cell_type": "code",
   "execution_count": 1,
   "metadata": {},
   "outputs": [
    {
     "name": "stdout",
     "output_type": "stream",
     "text": [
      "42\n"
     ]
    }
   ],
   "source": [
    "num = 42\n",
    "str_num = str(num)\n",
    "print(str_num)"
   ]
  },
  {
   "cell_type": "markdown",
   "metadata": {},
   "source": []
  },
  {
   "cell_type": "code",
   "execution_count": 30,
   "metadata": {},
   "outputs": [
    {
     "name": "stdout",
     "output_type": "stream",
     "text": [
      "apei e\n",
      "10\n",
      "9\n",
      "8\n",
      "7\n",
      "6\n",
      "5\n",
      "4\n",
      "3\n",
      "2\n"
     ]
    },
    {
     "data": {
      "text/plain": [
       "[0, 1, 2, 3, 4, 5, 6, 7, 8, 9]"
      ]
     },
     "execution_count": 30,
     "metadata": {},
     "output_type": "execute_result"
    }
   ],
   "source": [
    "mystr = \"apple is red\"\n",
    "\n",
    "print(mystr[::2])\n",
    "\n",
    "for i in range(10,1,-1):\n",
    "  print(i)\n",
    "  \n",
    "list(range(10))"
   ]
  },
  {
   "cell_type": "code",
   "execution_count": 7,
   "metadata": {},
   "outputs": [
    {
     "name": "stdout",
     "output_type": "stream",
     "text": [
      "1부터 515까지의 정수 합은 132870입니다.\n"
     ]
    }
   ],
   "source": [
    "num = int(input(\"어디까지 계산할까요?: \"))\n",
    "result = sum(range(1, num + 1))\n",
    "print(f\"1부터 {num}까지의 정수 합은 {result}입니다.\")"
   ]
  },
  {
   "cell_type": "code",
   "execution_count": 7,
   "metadata": {},
   "outputs": [
    {
     "name": "stdout",
     "output_type": "stream",
     "text": [
      "1부터 5까지의 합은 15입니다.\n"
     ]
    }
   ],
   "source": [
    "num = int(input(\"어디까지 계산할까요?\"))\n",
    "result = sum(range(1, num+1))\n",
    "print(f\"1부터 {num}까지의 합은 {result}입니다.\")"
   ]
  },
  {
   "cell_type": "code",
   "execution_count": 10,
   "metadata": {},
   "outputs": [
    {
     "name": "stdout",
     "output_type": "stream",
     "text": [
      "1부터 515까지의 정수 중 홀수의 합은 66564입니다.\n"
     ]
    }
   ],
   "source": [
    "num = int(input(\"어디까지 계산할까요?: \"))\n",
    "result = sum(range(1, num + 1, 2))\n",
    "\n",
    "print(f\"1부터 {num}까지의 정수 중 홀수의 합은 {result}입니다.\")"
   ]
  },
  {
   "cell_type": "code",
   "execution_count": 22,
   "metadata": {},
   "outputs": [
    {
     "name": "stdout",
     "output_type": "stream",
     "text": [
      "5\n",
      "4\n",
      "3\n",
      "2\n",
      "1\n",
      "발사\n"
     ]
    }
   ],
   "source": [
    "count = 5\n",
    "while (0 < count <= 5):\n",
    "    print(count)\n",
    "    count = count - 1\n",
    "print(\"발사\")"
   ]
  },
  {
   "cell_type": "code",
   "execution_count": 25,
   "metadata": {},
   "outputs": [
    {
     "name": "stdout",
     "output_type": "stream",
     "text": [
      "3 x 1 = 3\n",
      "3 x 2 = 6\n",
      "3 x 3 = 9\n",
      "3 x 4 = 12\n",
      "3 x 5 = 15\n",
      "3 x 6 = 18\n",
      "3 x 7 = 21\n",
      "3 x 8 = 24\n",
      "3 x 9 = 27\n"
     ]
    }
   ],
   "source": [
    "for i in range(1, 10):\n",
    "    result = 3 * i\n",
    "    print(f\"3 x {i} = {result}\")"
   ]
  },
  {
   "cell_type": "code",
   "execution_count": 27,
   "metadata": {},
   "outputs": [
    {
     "name": "stdout",
     "output_type": "stream",
     "text": [
      "3 * 1 = 3\n",
      "3 * 2 = 6\n",
      "3 * 3 = 9\n",
      "3 * 4 = 12\n",
      "3 * 5 = 15\n",
      "3 * 6 = 18\n",
      "3 * 7 = 21\n",
      "3 * 8 = 24\n",
      "3 * 9 = 27\n"
     ]
    }
   ],
   "source": [
    "num = int(input(\"몇 단을 출력할까요?: \"))\n",
    "\n",
    "for i in range(1, 10):\n",
    "    result = num * i\n",
    "    print(f\"{num} * {i} = {result}\")"
   ]
  },
  {
   "cell_type": "code",
   "execution_count": 10,
   "metadata": {},
   "outputs": [
    {
     "name": "stdout",
     "output_type": "stream",
     "text": [
      "1 * 1 = 1\n",
      "1 * 2 = 2\n",
      "1 * 3 = 3\n",
      "1 * 4 = 4\n",
      "1 * 5 = 5\n",
      "1 * 6 = 6\n",
      "1 * 7 = 7\n",
      "1 * 8 = 8\n",
      "1 * 9 = 9\n",
      "\n",
      "2 * 1 = 2\n",
      "2 * 2 = 4\n",
      "2 * 3 = 6\n",
      "2 * 4 = 8\n",
      "2 * 5 = 10\n",
      "2 * 6 = 12\n",
      "2 * 7 = 14\n",
      "2 * 8 = 16\n",
      "2 * 9 = 18\n",
      "\n",
      "3 * 1 = 3\n",
      "3 * 2 = 6\n",
      "3 * 3 = 9\n",
      "3 * 4 = 12\n",
      "3 * 5 = 15\n",
      "3 * 6 = 18\n",
      "3 * 7 = 21\n",
      "3 * 8 = 24\n",
      "3 * 9 = 27\n",
      "\n",
      "4 * 1 = 4\n",
      "4 * 2 = 8\n",
      "4 * 3 = 12\n",
      "4 * 4 = 16\n",
      "4 * 5 = 20\n",
      "4 * 6 = 24\n",
      "4 * 7 = 28\n",
      "4 * 8 = 32\n",
      "4 * 9 = 36\n",
      "\n",
      "5 * 1 = 5\n",
      "5 * 2 = 10\n",
      "5 * 3 = 15\n",
      "5 * 4 = 20\n",
      "5 * 5 = 25\n",
      "5 * 6 = 30\n",
      "5 * 7 = 35\n",
      "5 * 8 = 40\n",
      "5 * 9 = 45\n",
      "\n",
      "6 * 1 = 6\n",
      "6 * 2 = 12\n",
      "6 * 3 = 18\n",
      "6 * 4 = 24\n",
      "6 * 5 = 30\n",
      "6 * 6 = 36\n",
      "6 * 7 = 42\n",
      "6 * 8 = 48\n",
      "6 * 9 = 54\n",
      "\n",
      "7 * 1 = 7\n",
      "7 * 2 = 14\n",
      "7 * 3 = 21\n",
      "7 * 4 = 28\n",
      "7 * 5 = 35\n",
      "7 * 6 = 42\n",
      "7 * 7 = 49\n",
      "7 * 8 = 56\n",
      "7 * 9 = 63\n",
      "\n",
      "8 * 1 = 8\n",
      "8 * 2 = 16\n",
      "8 * 3 = 24\n",
      "8 * 4 = 32\n",
      "8 * 5 = 40\n",
      "8 * 6 = 48\n",
      "8 * 7 = 56\n",
      "8 * 8 = 64\n",
      "8 * 9 = 72\n",
      "\n",
      "9 * 1 = 9\n",
      "9 * 2 = 18\n",
      "9 * 3 = 27\n",
      "9 * 4 = 36\n",
      "9 * 5 = 45\n",
      "9 * 6 = 54\n",
      "9 * 7 = 63\n",
      "9 * 8 = 72\n",
      "9 * 9 = 81\n",
      "\n"
     ]
    }
   ],
   "source": [
    "\n",
    "for x in range(1,10):\n",
    "  for y in range(1,10):\n",
    "    print(f\"{x} * {y} = {x*y}\")\n",
    "  "
   ]
  },
  {
   "cell_type": "code",
   "execution_count": 38,
   "metadata": {},
   "outputs": [
    {
     "name": "stdout",
     "output_type": "stream",
     "text": [
      "라면\n",
      "\n"
     ]
    }
   ],
   "source": [
    "while True:\n",
    "  launch = input(\"뭐먹을래?\")\n",
    "  print(launch)"
   ]
  },
  {
   "cell_type": "code",
   "execution_count": 22,
   "metadata": {},
   "outputs": [
    {
     "name": "stdout",
     "output_type": "stream",
     "text": [
      "*\n",
      "**\n",
      "***\n",
      "****\n",
      "*****\n",
      "******\n",
      "*******\n",
      "********\n",
      "*********\n",
      "**********\n"
     ]
    }
   ],
   "source": [
    "for i in range(0, 10):\n",
    "    print('*' * (i+1))\n"
   ]
  },
  {
   "cell_type": "code",
   "execution_count": 49,
   "metadata": {},
   "outputs": [],
   "source": [
    "for y in range(5):\n",
    "  for x in range(5,1):\n",
    "    print('*' * (i))"
   ]
  },
  {
   "cell_type": "code",
   "execution_count": 50,
   "metadata": {},
   "outputs": [
    {
     "name": "stdout",
     "output_type": "stream",
     "text": [
      "     *\n",
      "    **\n",
      "   ***\n",
      "  ****\n",
      " *****\n"
     ]
    }
   ],
   "source": [
    "line = int(input(\"몇 줄?\"))\n",
    "i=1\n",
    "while (i<=line):\n",
    "  a=line-i\n",
    "  print(\" \"*a,\"*\"*i)\n",
    "  i = i+1"
   ]
  },
  {
   "cell_type": "code",
   "execution_count": 51,
   "metadata": {},
   "outputs": [
    {
     "name": "stdout",
     "output_type": "stream",
     "text": [
      "     *\n",
      "    ***\n",
      "   *****\n",
      "  *******\n",
      " *********\n"
     ]
    }
   ],
   "source": [
    "line = int(input(\"몇 줄?\"))\n",
    "i=1\n",
    "while (i<=line):\n",
    "  a=line-i\n",
    "  b=2*i-1\n",
    "  print(\" \"*a,\"*\"*b)\n",
    "  i = i+1\n",
    "\n"
   ]
  },
  {
   "cell_type": "code",
   "execution_count": 11,
   "metadata": {},
   "outputs": [
    {
     "name": "stdout",
     "output_type": "stream",
     "text": [
      "3\n"
     ]
    }
   ],
   "source": [
    "a = input()\n",
    "\n",
    "b = a.split()\n",
    "\n",
    "print(max(a))\n"
   ]
  },
  {
   "cell_type": "code",
   "execution_count": 57,
   "metadata": {},
   "outputs": [
    {
     "name": "stdout",
     "output_type": "stream",
     "text": [
      "입력한 숫자 중 최댓값은 50입니다.\n"
     ]
    }
   ],
   "source": [
    "numbers = [int(x) for x in input(\"다섯 개의 숫자를 입력하세요: \").split()]\n",
    "max_value = max(numbers)\n",
    "print(f\"입력한 숫자 중 최댓값은 {max_value}입니다.\")"
   ]
  },
  {
   "cell_type": "code",
   "execution_count": 58,
   "metadata": {},
   "outputs": [
    {
     "name": "stdout",
     "output_type": "stream",
     "text": [
      "입력한 숫자 중 최소값은 10입니다.\n"
     ]
    }
   ],
   "source": [
    "numbers = [int(x) for x in input(\"다섯 개의 숫자를 입력하세요: \").split()]\n",
    "min_value = min(numbers)\n",
    "print(f\"입력한 숫자 중 최소값은 {min_value}입니다.\")"
   ]
  },
  {
   "cell_type": "code",
   "execution_count": 11,
   "metadata": {},
   "outputs": [
    {
     "name": "stdout",
     "output_type": "stream",
     "text": [
      "입력한 숫자 중 평균값은 18.0입니다.\n"
     ]
    }
   ],
   "source": [
    "numbers = [int(x) for x in input(\"다섯 개의 숫자를 입력하세요: \").split()]\n",
    "\n",
    "average = (sum(numbers) - min(numbers) - max(numbers)) / len(numbers)\n",
    "print(f\"입력한 숫자 중 평균값은 {average}입니다.\")"
   ]
  },
  {
   "cell_type": "code",
   "execution_count": 5,
   "metadata": {},
   "outputs": [
    {
     "name": "stdout",
     "output_type": "stream",
     "text": [
      "[1, 9, 25, 49, 81]\n"
     ]
    }
   ],
   "source": [
    "numbers = [1, 3, 5, 7, 9]\n",
    "\n",
    "def square(x):\n",
    "  return x ** 2\n",
    "\n",
    "squared_numbers = map(square, numbers)\n",
    "print(list(squared_numbers))"
   ]
  },
  {
   "cell_type": "code",
   "execution_count": 14,
   "metadata": {},
   "outputs": [
    {
     "name": "stdout",
     "output_type": "stream",
     "text": [
      "30\n"
     ]
    }
   ],
   "source": [
    "t1 = (10, 20, 30)\n",
    "print(t1[2])"
   ]
  },
  {
   "cell_type": "code",
   "execution_count": 4,
   "metadata": {},
   "outputs": [
    {
     "name": "stdout",
     "output_type": "stream",
     "text": [
      "홀수 [1, 3, 5]\n",
      "짝수 [2, 4]\n"
     ]
    }
   ],
   "source": [
    "n = int(input(\"정수 n을 입력하세요: \"))\n",
    "my_list = list(range(1, n + 1))\n",
    "odd = my_list[::2]\n",
    "even = my_list[1::2]\n",
    "\n",
    "print(\"홀수\", odd)\n",
    "print(\"짝수\", even)"
   ]
  },
  {
   "cell_type": "markdown",
   "metadata": {},
   "source": []
  },
  {
   "cell_type": "code",
   "execution_count": 12,
   "metadata": {},
   "outputs": [
    {
     "name": "stdout",
     "output_type": "stream",
     "text": [
      "죄송합니다. 해당 음료는 제공되지 않습니다.\n"
     ]
    }
   ],
   "source": [
    "vending_machine = ['게토레이', '레쓰비', '생수', '이프로']\n",
    "choice = input(\"마시고 싶은 음료는 무엇인가요?\")\n",
    "\n",
    "if choice in vending_machine:\n",
    "  print(choice + \" 드릴게요\")\n",
    "else:\n",
    "  print(\"죄송합니다. 해당 음료는 제공되지 않습니다.\")\n"
   ]
  },
  {
   "cell_type": "code",
   "execution_count": 3,
   "metadata": {},
   "outputs": [
    {
     "name": "stdout",
     "output_type": "stream",
     "text": [
      "레쓰비이(가) 추가되었습니다. 현재 음료: ['게토레이', '게토레이', '레쓰비', '레쓰비', '생수', ' 생수', ' 생수', '이프로', '레쓰비']\n"
     ]
    }
   ],
   "source": [
    "vending_machine = ['게토레이', '게토레이', '레쓰비', '레쓰비', '생수',' 생수',' 생수', '이프로']\n",
    "role = input(\"역할을 선택하세요. '소비자' or '주인' \")\n",
    "\n",
    "if role == '소비자':\n",
    "  choice = input(\"음료를 선택하세요\")\n",
    "  if choice in vending_machine:\n",
    "    print(f\"{choice}드릴게요. 남은 음료: {vending_machine}\")\n",
    "    \n",
    "  else:\n",
    "    print(\"죄송합니다. 해당 음료는 품절되었습니다.\")\n",
    "\n",
    "elif role == '주인':\n",
    "  action = input(\"'추가' 또는 '삭제' 어떤 작업을 하시겠습니까?\")\n",
    "  \n",
    "  if action == '추가':\n",
    "    new_drink = input(\"추가할 음료를 입력하세요: \")\n",
    "    vending_machine.append(new_drink)\n",
    "    print(f\"{new_drink}이(가) 추가되었습니다. 현재 음료: {vending_machine}\")\n",
    "    \n",
    "  elif action == '삭제':\n",
    "    delete_drink = input(\"삭제할 음료를 입력하세요: \")\n",
    "    \n",
    "    if delete_drink in vending_machine:\n",
    "      vending_machine.remove(delete_drink)\n",
    "      \n",
    "      print(f\"{delete_drink}이(가) 제거되었습니다. 현재 음료: {vending_machine}\")\n",
    "    else:\n",
    "      print(\"죄송합니다. 해당 음료는 자판기에 없습니다\")\n",
    "  else:\n",
    "    print(\"올바른 작업을 선택해주세요 ('추가' 또는 '삭제').\")\n",
    "else:\n",
    "  print(\"올바른 역할을 선택해주세요 ('소비자' 또는 '주인').\")\n",
    "  \n",
    "  \n",
    " "
   ]
  },
  {
   "cell_type": "code",
   "execution_count": 14,
   "metadata": {},
   "outputs": [
    {
     "name": "stdout",
     "output_type": "stream",
     "text": [
      "레쓰비 레쓰비는 지금 없네요\n",
      "입력 값을 다시 확인해주세요\n"
     ]
    }
   ],
   "source": [
    "vending_machine = ['게토레이', '레쓰비', '레쓰비', '생수', '생수', '생수', '이프로']\n",
    "role = input(\"사용자의 종류를 입력하세요 : 1. 소비자 2. 주인\")\n",
    "if role == '1' or role.lower() == '소비자':\n",
    "    bev = input(\"마시고 싶은 음료?\")\n",
    "    if bev in vending_machine:\n",
    "        vending_machine.remove(bev)\n",
    "        print(f\"{bev} 드릴게요\")\n",
    "        print(\"남은 음료:\", vending_machine)\n",
    "    else:\n",
    "        print(f\"{bev}는 지금 없네요\")\n",
    "if role == '2' or role.upper() == '주인':\n",
    "    task = input(\"할 일 선택 : 1. 추가 2. 삭제\")\n",
    "    if task == '1' or task.lower() == '추가':\n",
    "        task_add = input(\"추가할 음료수?\")\n",
    "        vending_machine.append(task_add)\n",
    "        print(\"추가 완료\")\n",
    "        print(\"남은 음료:\", vending_machine)\n",
    "    else:\n",
    "        task == '2' or task.lower() == '삭제'\n",
    "        task_remove = input(\"삭제할 음료수?\")\n",
    "        if task_remove in vending_machine:\n",
    "            vending_machine.remove(task_remove)\n",
    "            print(\"삭제 완료\")\n",
    "            print(\"남은 음료:\", vending_machine)\n",
    "        else:\n",
    "            print(\"삭제할 음료수가 없습니다\")\n",
    "else:\n",
    "    print(\"입력 값을 다시 확인해주세요\")"
   ]
  },
  {
   "cell_type": "code",
   "execution_count": 4,
   "metadata": {},
   "outputs": [
    {
     "name": "stdout",
     "output_type": "stream",
     "text": [
      "[1, 2, 'fizz', 4, 'buzz']\n"
     ]
    }
   ],
   "source": [
    "n = int(input(\"정수 n을 입력하세요: \"))\n",
    "result_list = []\n",
    "\n",
    "for num in range(1, n + 1):\n",
    "\n",
    "  if num % 3 == 0 and num % 5 == 0:\n",
    "    result_list.append('fizzbuzz')\n",
    "  elif num % 3 == 0:\n",
    "    result_list.append('fizz')\n",
    "  elif num % 5 == 0:\n",
    "    result_list.append('buzz')\n",
    "  else:\n",
    "    result_list.append(num)\n",
    "print(result_list)\n"
   ]
  },
  {
   "cell_type": "code",
   "execution_count": 12,
   "metadata": {},
   "outputs": [
    {
     "name": "stdout",
     "output_type": "stream",
     "text": [
      "['김민기', '김재영', '이승회', '박주영', '차재원', '권혁민']\n",
      "[27, 26, 27, 26, 27, 32]\n",
      "나이 평균: 27.5\n",
      "{'김민기': 27, '김재영': 26, '이승회': 27, '박주영': 26, '차재원': 27}\n",
      "{'김민기': 27, '김재영': 26, '이승회': 27, '박주영': 26, '차재원': 27, '전창권': 25}\n",
      "dictionary에 존재하지 않습니다.\n"
     ]
    }
   ],
   "source": [
    "player = {'김민기' : 27, '김재영' : 26, '이승회' : 27, '박주영' : 26, '차재원' : 27, '권혁민' : 32}\n",
    "\n",
    "player_key = list(player)\n",
    "print(player_key)\n",
    "\n",
    "player_values = list(player.values())\n",
    "print(player_values)\n",
    "\n",
    "avg_value = sum(player_values) / len(player_values)\n",
    "print(f\"나이 평균: {avg_value}\")\n",
    "\n",
    "max_age_player = max(player, key=player.get)\n",
    "\n",
    "player.pop(max_age_player)\n",
    "print(player)\n",
    "\n",
    "player['전창권'] = 25\n",
    "print(player)\n",
    "\n",
    "if '페이커' in player:\n",
    "  print(\"dictionary에 존재합니다.\")\n",
    "else:\n",
    "  print(\"dictionary에 존재하지 않습니다.\")\n"
   ]
  },
  {
   "cell_type": "code",
   "execution_count": 10,
   "metadata": {},
   "outputs": [
    {
     "name": "stdout",
     "output_type": "stream",
     "text": [
      "['황정민', '정우성', '이성민', '박해준', '김성균']\n",
      "[53, 50, 55, 47, 43]\n",
      "평균 나이: 49.6\n",
      "[('김성균', 43), ('박해준', 47), ('정우성', 50), ('황정민', 53), ('최민식', 61)]\n",
      "딕셔너리에 페이커가 존재한다 : False\n"
     ]
    }
   ],
   "source": [
    "seoul = {\"황정민\" : 53, \"정우성\" : 50, \"이성민\" : 55, \"박해준\" : 47,\"김성균\" : 43}\n",
    "print(list(seoul.keys()))\n",
    "print(list(seoul.values()))\n",
    "ea = len(list(seoul))\n",
    "sum1 = sum(list(seoul.values()))\n",
    "print(f\"평균 나이: {sum1/ea}\")\n",
    "old_name = max(seoul ,key = seoul.get)\n",
    "del(seoul[old_name])\n",
    "seoul[\"최민식\"] = 61\n",
    "seoul_up = sorted(seoul.items(), key=lambda item:item[1])\n",
    "print(seoul_up)\n",
    "facker = \"페이커\"in seoul\n",
    "print(f\"딕셔너리에 페이커가 존재한다 : {facker}\")"
   ]
  },
  {
   "cell_type": "code",
   "execution_count": null,
   "metadata": {},
   "outputs": [],
   "source": [
    "\n",
    "person = {'손흥민': 30, '이강인' : 20, '설영우' : 25, '김민재' : 27, '김승규' : 35, '황희찬' : 45}\n",
    "# 키 리스트 만들기\n",
    "person_key = list(person)\n",
    "print(person_key)\n",
    "# 값 리스트 만들기\n",
    "person_values = list(person.values())\n",
    "print(person_values)\n",
    "# 나이 평균\n",
    "avg_value = sum(person_values) / len(person_values)\n",
    "print(f\"나이 평균: {avg_value}\")\n",
    "# 나이 제일 많은 사람 제외\n",
    "max_age_player = max(person, key=person.get)\n",
    "person.pop(max_age_player)\n",
    "print(person)\n",
    "# 값 추가\n",
    "person['조규성'] = 29\n",
    "print(person)\n",
    "# 값 존재 여부 확인\n",
    "if '페이커' in person:\n",
    "    print(\"dictionary에 존재합니다.\")\n",
    "else:\n",
    "    print(\"dictionary에 존재하지 않습니다.\")"
   ]
  }
 ],
 "metadata": {
  "kernelspec": {
   "display_name": "base",
   "language": "python",
   "name": "python3"
  },
  "language_info": {
   "codemirror_mode": {
    "name": "ipython",
    "version": 3
   },
   "file_extension": ".py",
   "mimetype": "text/x-python",
   "name": "python",
   "nbconvert_exporter": "python",
   "pygments_lexer": "ipython3",
   "version": "3.11.5"
  }
 },
 "nbformat": 4,
 "nbformat_minor": 2
}
