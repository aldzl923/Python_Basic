{
 "cells": [
  {
   "cell_type": "code",
   "execution_count": 4,
   "metadata": {},
   "outputs": [
    {
     "ename": "SyntaxError",
     "evalue": "invalid syntax (2904959804.py, line 17)",
     "output_type": "error",
     "traceback": [
      "\u001b[1;36m  Cell \u001b[1;32mIn[4], line 17\u001b[1;36m\u001b[0m\n\u001b[1;33m    int A = 42\u001b[0m\n\u001b[1;37m        ^\u001b[0m\n\u001b[1;31mSyntaxError\u001b[0m\u001b[1;31m:\u001b[0m invalid syntax\n"
     ]
    }
   ],
   "source": [
    "### list(\"abc\")\n",
    "A = ['a', 'b', 'c']\n",
    "A.append(\"d\")\n",
    "A.append(\"e\")\n",
    "print(A)\n",
    "B = ('a', 'b', 'c')\n",
    "\n",
    "fruits = {'banana' :1, 'apple' :1}\n",
    "\n",
    "A.remove('c')\n",
    "\n",
    "print(A)\n",
    "A = ['A', 'B', 'C']\n",
    "A = ['A', 'B', 'C']\n",
    "A = 1\n",
    "\n",
    "\n",
    "B = 'A'\n",
    "\n",
    "\n",
    "print(A)\n",
    "print(B)\n",
    "print(A[1])\n",
    "print(B[1])"
   ]
  },
  {
   "cell_type": "code",
   "execution_count": 4,
   "metadata": {},
   "outputs": [
    {
     "data": {
      "text/plain": [
       "[10, 20, 30, 40, 50]"
      ]
     },
     "execution_count": 4,
     "metadata": {},
     "output_type": "execute_result"
    }
   ],
   "source": [
    "A = ['10', '20', '30','40', '50']\n",
    "list(map(int,A))\n",
    "\n"
   ]
  },
  {
   "cell_type": "code",
   "execution_count": 4,
   "metadata": {},
   "outputs": [],
   "source": [
    "N = range(1, 10000 + 1)\n",
    "M = range(1, 10000 + 1)\n",
    "\n",
    "if S in M:\n",
    "  print(count(1, S))\n",
    " \n",
    "my_str = \"5 11\", \"baekjoononlinejudge\", \"startlink\", \"codeplus\", \"sundaycoding\", \"codingsh\", \"baekjoon\", \"codeplus\", \"codeminus\", \"startlink\", \"starlink\", \"sundaycoding\", \"codingsh\", \"codinghs\", \"sondaycoding\", \"startrink\", \"icerink\"\n",
    "string_count = count\n",
    "\n",
    "\n",
    "\n",
    "codinghs\n",
    "sondaycoding\n",
    "startrink\n",
    "icerink\n",
    " \n",
    "\n"
   ]
  },
  {
   "cell_type": "code",
   "execution_count": 1,
   "metadata": {},
   "outputs": [
    {
     "ename": "ValueError",
     "evalue": "invalid literal for int() with base 10: 'baekjoononlinejudge'",
     "output_type": "error",
     "traceback": [
      "\u001b[1;31m---------------------------------------------------------------------------\u001b[0m",
      "\u001b[1;31mValueError\u001b[0m                                Traceback (most recent call last)",
      "Cell \u001b[1;32mIn[1], line 2\u001b[0m\n\u001b[0;32m      1\u001b[0m \u001b[38;5;66;03m# 입력 받기\u001b[39;00m\n\u001b[1;32m----> 2\u001b[0m N, M \u001b[38;5;241m=\u001b[39m \u001b[38;5;28mmap\u001b[39m(\u001b[38;5;28mint\u001b[39m, \u001b[38;5;28minput\u001b[39m()\u001b[38;5;241m.\u001b[39msplit())\n\u001b[0;32m      4\u001b[0m \u001b[38;5;66;03m# 집합 S 생성\u001b[39;00m\n\u001b[0;32m      5\u001b[0m set_S \u001b[38;5;241m=\u001b[39m \u001b[38;5;28mset\u001b[39m()\n",
      "\u001b[1;31mValueError\u001b[0m: invalid literal for int() with base 10: 'baekjoononlinejudge'"
     ]
    }
   ],
   "source": [
    "##\n",
    "# 5 11\n",
    "baekjoononlinejudge\n",
    "startlink\n",
    "codeplus\n",
    "sundaycoding\n",
    "codingsh\n",
    "baekjoon\n",
    "codeplus\n",
    "codeminus\n",
    "startlink\n",
    "starlink\n",
    "sundaycoding\n",
    "codingsh\n",
    "codinghs\n",
    "sondaycoding\n",
    "startrink\n",
    "icerink\n",
    "\n",
    "# 입력 받기\n",
    "N, M = map(str, input().split())\n",
    "\n",
    "# 집합 S 생성\n",
    "set_S = set()\n",
    "for _ in range(N):\n",
    "    string_in_S = input().strip()\n",
    "    set_S.add(string_in_S)\n",
    "\n",
    "# 검사할 문자열들 입력 및 검사\n",
    "count_in_S = 0\n",
    "for _ in range(M):\n",
    "    test_string = input().strip()\n",
    "    if test_string in set_S:\n",
    "        count_in_S += 1\n",
    "\n",
    "# 결과 출력\n",
    "print(count_in_S)"
   ]
  },
  {
   "cell_type": "code",
   "execution_count": null,
   "metadata": {},
   "outputs": [],
   "source": [
    "N, M = map(int, input().split())\n",
    "S = set()\n",
    "for i in range(N):\n",
    "    S.add(input())\n",
    "ans = 0\n",
    "for _ in range(M):\n",
    "    t = input()\n",
    "    if t in S:\n",
    "        ans+=1\n",
    "print(ans)"
   ]
  },
  {
   "cell_type": "code",
   "execution_count": 5,
   "metadata": {},
   "outputs": [
    {
     "name": "stdout",
     "output_type": "stream",
     "text": [
      "ci9awb!vds3h*0\n"
     ]
    }
   ],
   "source": [
    "import random\n",
    "\n",
    "lower_alphabets = ['a', 'b', 'c', 'd', 'e', 'f', 'g', 'h', 'i', 'j', 'k', 'l', 'm', 'n', 'o', 'p', 'q', 'r', 's', 't', 'u', 'v', 'w', 'x', 'y', 'z']\n",
    "symbols = ['!', '#', '$', '%', '&', '(', ')', '*', '+']\n",
    "num_of_alphabets = 9\n",
    "num_of_numbers = 3\n",
    "num_of_symbols = 2\n",
    "\n",
    "\n",
    "\n",
    "# 비밀번호 생성 함수\n",
    "def generate_password():\n",
    "    # 소문자\n",
    "    alphabets = random.sample(lower_alphabets, num_of_alphabets)\n",
    "    \n",
    "    # 숫자\n",
    "    numbers = [str(random.randint(0, 9)) for _ in range(num_of_numbers)]\n",
    "    \n",
    "    \n",
    "    # 특수 기호\n",
    "    symbols_list = random.sample(symbols, num_of_symbols)\n",
    "    \n",
    "    # 모든 원소를 하나의 리스트로 합침\n",
    "    password_list = alphabets + numbers + symbols_list\n",
    "    \n",
    "    # 리스트를 섞음\n",
    "    random.shuffle(password_list)\n",
    "    \n",
    "    # 리스트를 문자열로 변환하여 반환\n",
    "    return ''.join(password_list)\n",
    "\n",
    "# 비밀번호 생성 및 출력\n",
    "password = generate_password()\n",
    "print(password)\n"
   ]
  },
  {
   "cell_type": "code",
   "execution_count": null,
   "metadata": {},
   "outputs": [],
   "source": []
  },
  {
   "cell_type": "code",
   "execution_count": 13,
   "metadata": {},
   "outputs": [
    {
     "name": "stdout",
     "output_type": "stream",
     "text": [
      "strawberry Moon"
     ]
    }
   ],
   "source": [
    "myList = list(\"strawberry Moon\")\n",
    "ans = 0\n",
    "for char in myList:\n",
    "  if char == 'r':\n",
    "    ans += 1\n",
    "\n",
    "myString = \"strawberry Moon\"\n",
    "for char in a:\n",
    "    print(char,end=\"\")"
   ]
  },
  {
   "cell_type": "code",
   "execution_count": 18,
   "metadata": {},
   "outputs": [
    {
     "ename": "TypeError",
     "evalue": "logic() takes 1 positional argument but 2 were given",
     "output_type": "error",
     "traceback": [
      "\u001b[1;31m---------------------------------------------------------------------------\u001b[0m",
      "\u001b[1;31mTypeError\u001b[0m                                 Traceback (most recent call last)",
      "Cell \u001b[1;32mIn[18], line 16\u001b[0m\n\u001b[0;32m     13\u001b[0m     \u001b[38;5;28;01mreturn\u001b[39;00m ret\n\u001b[0;32m     14\u001b[0m \u001b[38;5;66;03m##num = int(input(\"x를 입력하세요\"))\u001b[39;00m\n\u001b[0;32m     15\u001b[0m \u001b[38;5;66;03m#3result1 = logic(3)\u001b[39;00m\n\u001b[1;32m---> 16\u001b[0m result2 \u001b[38;5;241m=\u001b[39m logic(\u001b[38;5;241m3\u001b[39m, \u001b[38;5;241m5\u001b[39m)\n",
      "\u001b[1;31mTypeError\u001b[0m: logic() takes 1 positional argument but 2 were given"
     ]
    }
   ],
   "source": [
    "def logic1(a, b):\n",
    "\n",
    "    ## ret = a *a + 2 * a + 1\n",
    "    ret = a + b\n",
    "    \n",
    "    return ret\n",
    "\n",
    "def logic(a):\n",
    "\n",
    "    ## ret = a *a + 2 * a + 1\n",
    "    ret = a\n",
    "    \n",
    "    return ret\n",
    "##num = int(input(\"x를 입력하세요\"))\n",
    "#3result1 = logic(3)\n",
    "result2 = logic1(3, 5)\n",
    "##print(f\"f({x}) = {result}\") \n",
    "  \n",
    "\n"
   ]
  },
  {
   "cell_type": "code",
   "execution_count": null,
   "metadata": {},
   "outputs": [],
   "source": [
    "vending_machine = ['게토레이', '레쓰비', '레쓰비', '생수', '생수', '생수', '이프로']\n",
    "role = input(\"사용자의 종류를 입력하세요 : 1. 소비자 2. 주인\")\n",
    "if role == '1' or role.lower() == '소비자':\n",
    "    bev = input(\"마시고 싶은 음료?\")\n",
    "    if bev in vending_machine:\n",
    "        vending_machine.remove(bev)\n",
    "        print(f\"{bev} 드릴게요\")\n",
    "        print(\"남은 음료:\", vending_machine)\n",
    "    else:\n",
    "        print(f\"{bev}는 지금 없네요\")\n",
    "if role == '2' or role.upper() == '주인':\n",
    "    task = input(\"할 일 선택 : 1. 추가 2. 삭제\")\n",
    "    if task == '1' or task.lower() == '추가':\n",
    "        task_add = input(\"추가할 음료수?\")\n",
    "        vending_machine.append(task_add)\n",
    "        print(\"추가 완료\")\n",
    "        print(\"남은 음료:\", vending_machine)\n",
    "    else:\n",
    "        task == '2' or task.lower() == '삭제'\n",
    "        task_remove = input(\"삭제할 음료수?\")\n",
    "        if task_remove in vending_machine:\n",
    "            vending_machine.remove(task_remove)\n",
    "            print(\"삭제 완료\")\n",
    "            print(\"남은 음료:\", vending_machine)\n",
    "        else:\n",
    "            print(\"삭제할 음료수가 없습니다\")\n",
    "else:\n",
    "    print(\"입력 값을 다시 확인해주세요\")"
   ]
  },
  {
   "cell_type": "code",
   "execution_count": 10,
   "metadata": {},
   "outputs": [],
   "source": [
    "def purchase_from_vending_machine(vending_machine):\n",
    "    bev = input(\"마시고 싶은 음료?\")\n",
    "    if bev in vending_machine:\n",
    "        vending_machine.remove(bev)\n",
    "        print(f\"{bev} 드릴게요\")\n",
    "        print(\"남은 음료:\", vending_machine)\n",
    "    else:\n",
    "        print(f\"{bev}는 지금 없네요\")\n",
    "\n",
    "def manage_vending_machine(vending_machine):\n",
    "    task = input(\"할 일 선택 : 1. 추가 2. 삭제\")\n",
    "    if task == '1' or task.lower() == '추가':\n",
    "        task_add = input(\"추가할 음료수?\")\n",
    "        vending_machine.append(task_add)\n",
    "        print(\"추가 완료\")\n",
    "        print(\"남은 음료:\", vending_machine)\n",
    "    elif task == '2' or task.lower() == '삭제':\n",
    "        task_remove = input(\"삭제할 음료수?\")\n",
    "        if task_remove in vending_machine:\n",
    "            vending_machine.remove(task_remove)\n",
    "            print(\"삭제 완료\")\n",
    "            print(\"남은 음료:\", vending_machine)\n",
    "        else:\n",
    "            print(\"삭제할 음료수가 없습니다\")\n",
    "    else:\n",
    "        print(\"올바른 작업을 선택해주세요\")\n",
    "\n",
    "def main():\n",
    "    vending_machine = ['게토레이', '레쓰비', '레쓰비', '생수', '생수', '생수', '이프로']\n",
    "    role = input(\"사용자의 종류를 입력하세요 : 1. 소비자 2. 주인\")\n",
    "\n",
    "    if role == '1' or role.lower() == '소비자':\n",
    "        purchase_from_vending_machine(vending_machine)\n",
    "    elif role == '2' or role.upper() == '주인':\n",
    "        manage_vending_machine(vending_machine)\n",
    "    else:\n",
    "        print(\"입력 값을 다시 확인해주세요\")\n",
    "        \n",
    "if __name__ == \"__main__\":\n",
    "    main()\n",
    "\n",
    "\n"
   ]
  },
  {
   "cell_type": "code",
   "execution_count": 11,
   "metadata": {},
   "outputs": [
    {
     "name": "stdout",
     "output_type": "stream",
     "text": [
      "['게토레이', '레쓰비', '레쓰비', '생수', '생수', '생수', '이프로']\n",
      "레쓰비 드릴게요\n",
      "남은 음료: ['게토레이', '레쓰비', '생수', '생수', '생수', '이프로']\n",
      "['게토레이', '레쓰비', '생수', '생수', '생수', '이프로', '생수']\n",
      "삭제 완료\n",
      "남은 음료: ['게토레이', '생수', '생수', '생수', '이프로', '생수']\n"
     ]
    }
   ],
   "source": [
    "vending_machine = ['게토레이', '레쓰비', '레쓰비', '생수', '생수', '생수', '이프로']\n",
    "def check_machine():\n",
    "    return print(vending_machine)\n",
    "def is_drink():\n",
    "    bev = input(\"마시고 싶은 음료?\")\n",
    "    if bev in vending_machine:\n",
    "        vending_machine.remove(bev)\n",
    "        print(f\"{bev} 드릴게요\")\n",
    "        print(\"남은 음료:\", vending_machine)\n",
    "    else:\n",
    "        print(f\"{bev}는 지금 없네요\")\n",
    "def add_drink():\n",
    "    task_add = input(\"추가할 음료수?\")\n",
    "    vending_machine.append(task_add)\n",
    "    return print(vending_machine)\n",
    "def remove_drink():\n",
    "    task_remove = input(\"삭제할 음료수?\")\n",
    "    if task_remove in vending_machine:\n",
    "            vending_machine.remove(task_remove)\n",
    "            print(\"삭제 완료\")\n",
    "            print(\"남은 음료:\", vending_machine)\n",
    "    else:\n",
    "        print(\"삭제할 음료수가 없습니다\")\n",
    "check_machine()\n",
    "is_drink()\n",
    "add_drink()\n",
    "remove_drink()"
   ]
  },
  {
   "cell_type": "code",
   "execution_count": 26,
   "metadata": {},
   "outputs": [
    {
     "name": "stdout",
     "output_type": "stream",
     "text": [
      "현재 음료['게토레이', '레쓰비', '레쓰비', '생수', '생수', '생수', '이프로']\n",
      "없어는 지금 없네요\n",
      "콜라추가완료\n",
      "콜라제거완료\n"
     ]
    }
   ],
   "source": [
    "vending_machine = ['게토레이', '레쓰비', '레쓰비', '생수', '생수', '생수', '이프로']\n",
    "def check_machine():\n",
    "  \n",
    "  print(f\"현재 음료{vending_machine}\")\n",
    "  return(vending_machine)\n",
    "\n",
    "def is_drink():\n",
    "  bev = (input(\"마시고 싶은 음료를 선택하세요\"))\n",
    "  if bev in vending_machine:\n",
    "    print(f\"드릴게요\")\n",
    "  else:\n",
    "    print(f\"{bev}는 지금 없네요\")\n",
    "\n",
    "def add_drink():\n",
    "  add = input(\"추가할 음료를 입력해주세요\")\n",
    "  vending_machine.append(add)\n",
    "  print(f\"{add}추가완료\")\n",
    "  \n",
    "  \n",
    "def remove_drink():\n",
    "  rem = input(\"제거할 음료를 입력해주세요\")\n",
    "  vending_machine.remove(rem)\n",
    "  print(f\"{rem}제거완료\")\n",
    "  \n",
    "check_machine()\n",
    "is_drink()\n",
    "add_drink()\n",
    "remove_drink()"
   ]
  },
  {
   "cell_type": "code",
   "execution_count": null,
   "metadata": {},
   "outputs": [],
   "source": [
    "myList = [1,4,5,3,2,1]\n",
    "myList.sork(reverse=True)\n",
    "print(myList)\n",
    "\n",
    "mystrList = [\"abc\", \"dddd\". \"ae\", \"eeeee\"]\n",
    "\n",
    "mystrList"
   ]
  },
  {
   "cell_type": "markdown",
   "metadata": {},
   "source": [
    "재귀함수\n"
   ]
  },
  {
   "cell_type": "code",
   "execution_count": 9,
   "metadata": {},
   "outputs": [
    {
     "ename": "IndentationError",
     "evalue": "expected an indented block after function definition on line 1 (2770511692.py, line 3)",
     "output_type": "error",
     "traceback": [
      "\u001b[1;36m  Cell \u001b[1;32mIn[9], line 3\u001b[1;36m\u001b[0m\n\u001b[1;33m    int(fibo(1)) == 0\u001b[0m\n\u001b[1;37m    ^\u001b[0m\n\u001b[1;31mIndentationError\u001b[0m\u001b[1;31m:\u001b[0m expected an indented block after function definition on line 1\n"
     ]
    }
   ],
   "source": [
    "def fibo(x):\n",
    "    \n",
    "int(fibo(1)) == 0\n",
    "int(fibo(2)) == 0\n",
    "\n",
    " \n",
    "    if x == 1:\n",
    "      return 1\n",
    "    \n",
    "    return(fibo) = (n - 1) + (n - 2) \n",
    "\n",
    "print(f\"fibo(x)\")"
   ]
  },
  {
   "cell_type": "code",
   "execution_count": 7,
   "metadata": {},
   "outputs": [
    {
     "name": "stdout",
     "output_type": "stream",
     "text": [
      "[1, 1, 2]\n"
     ]
    }
   ],
   "source": [
    "f_list = [1,1]\n",
    "def fibo(n):\n",
    "    for i in range(2, n):\n",
    "        \n",
    "      f_list.append(f_list[i-1] + f_list[i-2])\n",
    "    return f_list\n",
    "fibo(3)\n",
    "print(f_list)"
   ]
  },
  {
   "cell_type": "code",
   "execution_count": 4,
   "metadata": {},
   "outputs": [
    {
     "name": "stdout",
     "output_type": "stream",
     "text": [
      "0\n",
      "0\n",
      "0\n",
      "0\n",
      "0\n",
      "2\n",
      "3\n",
      "1\n",
      "2\n",
      "0\n",
      "0\n",
      "0\n"
     ]
    }
   ],
   "source": [
    "my_list = list('000002312000') ## 리스트함수 만듦\n",
    "\n",
    "def machine(my_list):  ## 머신이라는 변수를 마이리스트에 함수로 지정함 ( 모르겠음)     \n",
    "             \n",
    "    for i in my_list: \n",
    "        print(i)\n",
    "        \n",
    "        ### 만약 0이 my_list에 있으면 (0은 각각의 리스트니까 ''를 썼음)\n",
    "        # count.machine('0')      ###머신으로 지정한 my_list에 있는 0을 카운트 하라는 의미로 썻는데 \n",
    "        #                     ##이 값을 다른 int변수로 받아줘야하는지 아니면 바로 print(machine)으로 출력하면 되는지 모르겠음\n",
    "        \n",
    "        # print(count.machine)  ### 카운트 한 머신 값을 출력해라\n",
    "        \n",
    "machine(my_list)"
   ]
  },
  {
   "cell_type": "code",
   "execution_count": 14,
   "metadata": {},
   "outputs": [
    {
     "ename": "IndentationError",
     "evalue": "expected an indented block after 'for' statement on line 5 (986953701.py, line 8)",
     "output_type": "error",
     "traceback": [
      "\u001b[1;36m  Cell \u001b[1;32mIn[14], line 8\u001b[1;36m\u001b[0m\n\u001b[1;33m    return\u001b[0m\n\u001b[1;37m    ^\u001b[0m\n\u001b[1;31mIndentationError\u001b[0m\u001b[1;31m:\u001b[0m expected an indented block after 'for' statement on line 5\n"
     ]
    }
   ],
   "source": [
    "myStr = '0000707000000004040010101'\n",
    "newStr = myStr.lstrip('0')\n",
    "result = len(myStr) - len(newStr)\n",
    "\n",
    "for result in myStr:\n",
    "  \n",
    "\n",
    "return\n",
    "\n"
   ]
  },
  {
   "cell_type": "code",
   "execution_count": null,
   "metadata": {},
   "outputs": [],
   "source": [
    "str = '12300123000456000000789009630'\n",
    "myList = list(str)\n",
    "newList = []\n",
    "def func():\n",
    "    cnt = 0\n",
    "    for i in range((len(myList))):\n",
    "        if myList[i] == '0':\n",
    "            cnt += 1\n",
    "        elif myList[i] != '0':\n",
    "            if cnt > 0:\n",
    "                newList.append(cnt)\n",
    "                cnt = 0\n",
    "func()\n",
    "print(max(newList))"
   ]
  },
  {
   "cell_type": "code",
   "execution_count": 9,
   "metadata": {},
   "outputs": [
    {
     "name": "stdout",
     "output_type": "stream",
     "text": [
      "10101\n"
     ]
    }
   ],
   "source": [
    "myStr = '0000000000010101'\n",
    "newStr = myStr.lstrip('0')\n",
    "print(newStr)"
   ]
  },
  {
   "cell_type": "code",
   "execution_count": 10,
   "metadata": {},
   "outputs": [],
   "source": [
    "# comprehension\n",
    "# A의 요소에 곱하기 2한값으로 새로운 리스트를 만들고 싶어요.\n",
    "A = [1,2,3]\n",
    "B = []\n",
    "b = [i*2 for i in A if i >=2]\n",
    "\n",
    "# for i in A:\n",
    "# if i >= 2:\n",
    "# B.append(i)"
   ]
  },
  {
   "cell_type": "code",
   "execution_count": 18,
   "metadata": {},
   "outputs": [
    {
     "ename": "NameError",
     "evalue": "name 'A' is not defined",
     "output_type": "error",
     "traceback": [
      "\u001b[1;31m---------------------------------------------------------------------------\u001b[0m",
      "\u001b[1;31mNameError\u001b[0m                                 Traceback (most recent call last)",
      "Cell \u001b[1;32mIn[18], line 3\u001b[0m\n\u001b[0;32m      1\u001b[0m List_A \u001b[38;5;241m=\u001b[39m [\u001b[38;5;124m'\u001b[39m\u001b[38;5;124mabc\u001b[39m\u001b[38;5;124m'\u001b[39m, \u001b[38;5;124m'\u001b[39m\u001b[38;5;124mcc\u001b[39m\u001b[38;5;124m'\u001b[39m, \u001b[38;5;124m'\u001b[39m\u001b[38;5;124md\u001b[39m\u001b[38;5;124m'\u001b[39m, \u001b[38;5;124m'\u001b[39m\u001b[38;5;124meffd\u001b[39m\u001b[38;5;124m'\u001b[39m]\n\u001b[1;32m----> 3\u001b[0m A\u001b[38;5;241m.\u001b[39msplit(sep\u001b[38;5;241m=\u001b[39m\u001b[38;5;124m'\u001b[39m\u001b[38;5;124mC\u001b[39m\u001b[38;5;124m'\u001b[39m)\n",
      "\u001b[1;31mNameError\u001b[0m: name 'A' is not defined"
     ]
    }
   ],
   "source": [
    "list_A = ['abc', 'cc', 'd', 'effd']\n",
    "A = \n",
    "A.split(sep='C')\n",
    "\n",
    "\n",
    "\n"
   ]
  },
  {
   "cell_type": "code",
   "execution_count": 27,
   "metadata": {},
   "outputs": [
    {
     "ename": "NameError",
     "evalue": "name 'a' is not defined",
     "output_type": "error",
     "traceback": [
      "\u001b[1;31m---------------------------------------------------------------------------\u001b[0m",
      "\u001b[1;31mNameError\u001b[0m                                 Traceback (most recent call last)",
      "Cell \u001b[1;32mIn[27], line 2\u001b[0m\n\u001b[0;32m      1\u001b[0m mylist \u001b[38;5;241m=\u001b[39m [\u001b[38;5;241m1\u001b[39m,\u001b[38;5;241m2\u001b[39m,\u001b[38;5;241m3\u001b[39m,\u001b[38;5;241m4\u001b[39m]\n\u001b[1;32m----> 2\u001b[0m n \u001b[38;5;241m=\u001b[39m \u001b[38;5;28mstr\u001b[39m(\u001b[38;5;28mint\u001b[39m(a))\n\u001b[0;32m      3\u001b[0m \u001b[38;5;28;01mif\u001b[39;00m a \u001b[38;5;241m>\u001b[39m\u001b[38;5;241m=\u001b[39m \u001b[38;5;241m3\u001b[39m : \n\u001b[0;32m      4\u001b[0m   a\u001b[38;5;241m*\u001b[39ma\n",
      "\u001b[1;31mNameError\u001b[0m: name 'a' is not defined"
     ]
    }
   ],
   "source": [
    "mylist = [1,2,3,4]\n",
    "n = str(int(a))\n",
    "if a >= 3 : \n",
    "  a*a"
   ]
  },
  {
   "cell_type": "code",
   "execution_count": 34,
   "metadata": {},
   "outputs": [
    {
     "name": "stdout",
     "output_type": "stream",
     "text": [
      "[9, 16]\n"
     ]
    }
   ],
   "source": [
    "my_list = [1, 2, 3, 4]\n",
    "new_list = [i**2 for i in my_list if i >= 3]\n",
    "print(new_list)"
   ]
  },
  {
   "cell_type": "code",
   "execution_count": 46,
   "metadata": {},
   "outputs": [
    {
     "name": "stdout",
     "output_type": "stream",
     "text": [
      "heo word\n"
     ]
    }
   ],
   "source": [
    "mystr = \"hello world\"\n",
    "newstr = mystr.replace('hello world', 'heo word')\n",
    "\n",
    "print(newstr)\n",
    "\n",
    "\n"
   ]
  },
  {
   "cell_type": "code",
   "execution_count": 48,
   "metadata": {},
   "outputs": [
    {
     "name": "stdout",
     "output_type": "stream",
     "text": [
      "28.26\n"
     ]
    }
   ],
   "source": [
    "cir = lambda r: 3.14*r**2\n",
    "result = cir(3)\n",
    "print(result)"
   ]
  },
  {
   "cell_type": "code",
   "execution_count": 30,
   "metadata": {},
   "outputs": [
    {
     "ename": "TypeError",
     "evalue": "'function' object is not iterable",
     "output_type": "error",
     "traceback": [
      "\u001b[1;31m---------------------------------------------------------------------------\u001b[0m",
      "\u001b[1;31mTypeError\u001b[0m                                 Traceback (most recent call last)",
      "Cell \u001b[1;32mIn[30], line 12\u001b[0m\n\u001b[0;32m      9\u001b[0m mylist \u001b[38;5;241m=\u001b[39m [func(\u001b[38;5;241m-\u001b[39m\u001b[38;5;241m1\u001b[39m), func(\u001b[38;5;241m0\u001b[39m), func(\u001b[38;5;241m1\u001b[39m), func(\u001b[38;5;241m2\u001b[39m), func(\u001b[38;5;241m3\u001b[39m)]\n\u001b[0;32m     10\u001b[0m newlist \u001b[38;5;241m=\u001b[39m []\n\u001b[1;32m---> 12\u001b[0m \u001b[38;5;28;01mfor\u001b[39;00m mylist \u001b[38;5;129;01min\u001b[39;00m func:\n\u001b[0;32m     13\u001b[0m   \u001b[38;5;28;01mif\u001b[39;00m mylist \u001b[38;5;129;01mis\u001b[39;00m \u001b[38;5;28mmax\u001b[39m : \n\u001b[0;32m     14\u001b[0m     newlist\u001b[38;5;241m.\u001b[39mappend(\u001b[38;5;28mmax\u001b[39m(mylist)), mylist\u001b[38;5;241m.\u001b[39mremove(\u001b[38;5;28mmax\u001b[39m(mylist))\n",
      "\u001b[1;31mTypeError\u001b[0m: 'function' object is not iterable"
     ]
    }
   ],
   "source": [
    "func = lambda x: (2*x**3) - (9 * x **2)\n",
    "\n",
    "result1 = func(-1)\n",
    "result2 = func(0)\n",
    "result3 = func(1)\n",
    "result4 = func(2)\n",
    "result5 = func(3)\n",
    "\n",
    "mylist = [func(-1), func(0), func(1), func(2), func(3)]\n",
    "newlist = []\n",
    "\n",
    "for mylist in func:\n",
    "  if mylist is max : \n",
    "    newlist.append(max(mylist)), mylist.remove(max(mylist))\n",
    "    if mylist is []:\n",
    "        break\n",
    "      \n",
    "\n",
    "\n"
   ]
  },
  {
   "cell_type": "code",
   "execution_count": 35,
   "metadata": {},
   "outputs": [
    {
     "name": "stdout",
     "output_type": "stream",
     "text": [
      "baseball 야구경기가 진행중입니다.\n",
      "SandiagoPadress 야구경기가 진행중입니다.\n"
     ]
    }
   ],
   "source": [
    "class baseball:\n",
    "  def __init__(self, myname, position, age, team, avg, lavg, OPS):\n",
    "    self.name = myname\n",
    "    self.position = position\n",
    "    self.age = age\n",
    "    self.team = team\n",
    "    self.avg = avg\n",
    "    self.lavg = lavg\n",
    "    self.OPS = OPS\n",
    "    \n",
    "    \n",
    "  def ShowTV(self):\n",
    "      print(f\"{self.name} 야구경기가 진행중입니다.\")\n",
    "      \n",
    "class baseball:\n",
    "  # 이름\n",
    "  # 포지션\n",
    "  # 나이\n",
    "  # 소속\n",
    "  # 타율\n",
    "  # 장타율\n",
    "  # OPS\n",
    "\n",
    "m_baseball = baseball(\"baseball\")\n",
    "m_baseball.ShowTV()\n",
    "\n",
    "m_SandiagoPadress = baseball(\"SandiagoPadress\")\n",
    "m_SandiagoPadress.ShowTV()"
   ]
  },
  {
   "cell_type": "code",
   "execution_count": null,
   "metadata": {},
   "outputs": [],
   "source": [
    "class Calculator:\n",
    "  \n",
    "  def __init__(self,num1,num2):\n",
    "    self.num1 = num1\n",
    "    self.num2 = num2\n",
    "    \n",
    "  def add(self):\n",
    "    return self.num1 + self.num2\n",
    "  \n",
    "  def sub(self):\n",
    "    return self.num1 - self.num2\n",
    "  \n",
    "  def mul(self):\n",
    "    return self.num1 * self.num2\n",
    "  \n",
    "  def div(self):\n",
    "    return self.num1 / self.num2"
   ]
  },
  {
   "cell_type": "code",
   "execution_count": 7,
   "metadata": {},
   "outputs": [
    {
     "name": "stdout",
     "output_type": "stream",
     "text": [
      "8\n",
      "-2\n",
      "15\n",
      "0.6\n"
     ]
    }
   ],
   "source": [
    "class Calculator:\n",
    "    \n",
    "    def __init__(self):\n",
    "        self.num1 = int(input())\n",
    "        self.num2 = int(input())\n",
    "        \n",
    "    def add(self):\n",
    "        return self.num1 + self.num2\n",
    "    \n",
    "    def sub(self):\n",
    "        return self.num1 - self.num2\n",
    "    \n",
    "    def mul(self):\n",
    "        return self.num1 * self.num2\n",
    "    \n",
    "    def div(self):\n",
    "        return self.num1 / self.num2\n",
    "    \n",
    "Calculator_sol = Calculator()\n",
    "print(Calculator_sol.add())\n",
    "print(Calculator_sol.sub())\n",
    "print(Calculator_sol.mul())\n",
    "print(Calculator_sol.div())\n"
   ]
  },
  {
   "cell_type": "code",
   "execution_count": 11,
   "metadata": {},
   "outputs": [
    {
     "name": "stdout",
     "output_type": "stream",
     "text": [
      "8\n",
      "-2\n",
      "15\n",
      "0.6\n"
     ]
    }
   ],
   "source": [
    "class calc:\n",
    "    def __init__(self):\n",
    "        self.num1 = int(input())\n",
    "        self.num2 = int(input())\n",
    "    def add(self):\n",
    "        return self.num1 + self.num2\n",
    "    def sub(self):\n",
    "        return self.num1 - self.num2\n",
    "    def mul(self):\n",
    "        return self.num1 * self.num2\n",
    "    def div(self):\n",
    "        return self.num1 / self.num2\n",
    "calc_sol = calc()\n",
    "print(calc_sol.add())\n",
    "print(calc_sol.sub())\n",
    "print(calc_sol.mul())\n",
    "print(calc_sol.div())"
   ]
  },
  {
   "cell_type": "code",
   "execution_count": 9,
   "metadata": {},
   "outputs": [
    {
     "ename": "NameError",
     "evalue": "name 'self' is not defined",
     "output_type": "error",
     "traceback": [
      "\u001b[1;31m---------------------------------------------------------------------------\u001b[0m",
      "\u001b[1;31mNameError\u001b[0m                                 Traceback (most recent call last)",
      "Cell \u001b[1;32mIn[9], line 35\u001b[0m\n\u001b[0;32m     30\u001b[0m     \u001b[38;5;28;01mdef\u001b[39;00m \u001b[38;5;21mshow_supermarket_count\u001b[39m(\u001b[38;5;28mself\u001b[39m):\n\u001b[0;32m     31\u001b[0m         \u001b[38;5;28mprint\u001b[39m(\u001b[38;5;124mf\u001b[39m\u001b[38;5;124m\"\u001b[39m\u001b[38;5;124m슈퍼마켓 인스턴스 개수: \u001b[39m\u001b[38;5;132;01m{\u001b[39;00m\u001b[38;5;28mcls\u001b[39m\u001b[38;5;241m.\u001b[39msupermarket_count\u001b[38;5;132;01m}\u001b[39;00m\u001b[38;5;124m\"\u001b[39m)\n\u001b[1;32m---> 35\u001b[0m supermarket\u001b[38;5;241m.\u001b[39mprint_location(\u001b[38;5;28mself\u001b[39m)\n",
      "\u001b[1;31mNameError\u001b[0m: name 'self' is not defined"
     ]
    }
   ],
   "source": [
    "class supermarket:\n",
    "    def __init__(self, location, name, product, customer):\n",
    "        self.location = location\n",
    "        self.name = name\n",
    "        self.product = product\n",
    "        self.customer = customer\n",
    "        \n",
    "        Supermarket.supermarket_count += 1\n",
    "      \n",
    "    def print_location(self):\n",
    "        print(f\"위치: {self.location}\")\n",
    "      \n",
    "    def change_category(self):\n",
    "        self.product = new_product\n",
    "        print(f\"물건이 {new_product}로 변경되었습니다.\")\n",
    "\n",
    "    def show_list(self):\n",
    "        print(f\"현재 파는 물건: {self.product}\")\n",
    "    def enter_customer(self):\n",
    "        self.customer += 1\n",
    "        print(f\"손님 수가 1명 증가했습니다. 현재 손님 수: {self.customer}\")\n",
    "\n",
    "    def show_info(self):\n",
    "        print(f\"가게 이름: {self.name}\")\n",
    "        print(f\"위치: {self.location}\")\n",
    "        print(f\"파는 물건: {self.product}\")\n",
    "        print(f\"손님 수: {self.customer}\")\n",
    "    \n",
    "    \n",
    "    def show_supermarket_count(self):\n",
    "        print(f\"슈퍼마켓 인스턴스 개수: {cls.supermarket_count}\")\n",
    "\n",
    "\n",
    "\n",
    "supermarket.print_location(self)"
   ]
  },
  {
   "cell_type": "code",
   "execution_count": 5,
   "metadata": {},
   "outputs": [
    {
     "name": "stdout",
     "output_type": "stream",
     "text": [
      "[0, -7, -11, -20, -27]\n"
     ]
    }
   ],
   "source": [
    "func = lambda x: (2*x**3) - (9 * x **2)\n",
    "result1 = func(-1)\n",
    "result2 = func(0)\n",
    "result3 = func(1)\n",
    "result4 = func(2)\n",
    "result5 = func(3)\n",
    "\n",
    "mylist = [func(-1), func(0), func(1), func(2), func(3)]\n",
    "newlist = []\n",
    "\n",
    "newlist.append(max(mylist))\n",
    "mylist.remove(max(mylist))\n",
    "newlist.append(max(mylist))\n",
    "mylist.remove(max(mylist))\n",
    "newlist.append(max(mylist))\n",
    "mylist.remove(max(mylist))\n",
    "newlist.append(max(mylist))``\n",
    "mylist.remove(max(mylist))\n",
    "newlist.append(max(mylist))\n",
    "mylist.remove(max(mylist))\n",
    "print(newlist)"
   ]
  },
  {
   "cell_type": "code",
   "execution_count": 10,
   "metadata": {},
   "outputs": [
    {
     "name": "stdout",
     "output_type": "stream",
     "text": [
      "[0, 1, -1, 2, 3]\n"
     ]
    }
   ],
   "source": [
    "x = [-1, 0, 1, 2, 3]\n",
    "\n",
    "f = sorted(x, key = lambda x : 2*x**3 - 9*x**2, reverse = True)\n",
    "\n",
    "print(f)\n",
    "\n",
    "\n"
   ]
  }
 ],
 "metadata": {
  "kernelspec": {
   "display_name": "base",
   "language": "python",
   "name": "python3"
  },
  "language_info": {
   "codemirror_mode": {
    "name": "ipython",
    "version": 3
   },
   "file_extension": ".py",
   "mimetype": "text/x-python",
   "name": "python",
   "nbconvert_exporter": "python",
   "pygments_lexer": "ipython3",
   "version": "3.11.5"
  }
 },
 "nbformat": 4,
 "nbformat_minor": 2
}
