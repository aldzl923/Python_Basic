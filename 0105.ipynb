{
 "cells": [
  {
   "cell_type": "code",
   "execution_count": 21,
   "metadata": {},
   "outputs": [
    {
     "name": "stdout",
     "output_type": "stream",
     "text": [
      "BossBaby\n",
      "Avengers\n"
     ]
    }
   ],
   "source": [
    "class Movie:\n",
    "    title1 = \"BossBaby\"\n",
    "    title2 = \"Avengers\"\n",
    "    \n",
    "movie1 = Movie()\n",
    "movie2 = Movie()\n",
    "\n",
    "print(movie1.title1)\n",
    "print(movie2.title2)"
   ]
  },
  {
   "cell_type": "code",
   "execution_count": 28,
   "metadata": {},
   "outputs": [
    {
     "name": "stdout",
     "output_type": "stream",
     "text": [
      "BossBaby 100명\n",
      "Avangers 200명\n"
     ]
    }
   ],
   "source": [
    "class Movie:\n",
    "    count = 0   ##안해도 값은 나오는데 왜 하는지 모르겠음\n",
    "    \n",
    "    def __init__(self, title, audience):\n",
    "        self.title = title\n",
    "        self.audience = audience\n",
    "        \n",
    "movie1 = Movie(\"BossBaby\", \"100명\")\n",
    "movie2 = Movie(\"Avangers\", \"200명\")\n",
    "\n",
    "print(movie1.title, movie1.audience)\n",
    "print(movie2.title, movie2.audience)"
   ]
  },
  {
   "cell_type": "code",
   "execution_count": 34,
   "metadata": {},
   "outputs": [
    {
     "name": "stdout",
     "output_type": "stream",
     "text": [
      "3\n"
     ]
    }
   ],
   "source": [
    "class Movie:\n",
    "    count = 0\n",
    "    \n",
    "    def __init__(self,title,audience):\n",
    "        self.title = title\n",
    "        self.audience = audience\n",
    "        Movie.count += 1\n",
    "        \n",
    "movie1 = Movie(\"bossbaby\", 100)\n",
    "movie2 = Movie(\"Avangers\", 200)\n",
    "movie3 = Movie(\"Avangers2\", 300)\n",
    "\n",
    "print(Movie.count)"
   ]
  },
  {
   "cell_type": "code",
   "execution_count": 44,
   "metadata": {},
   "outputs": [
    {
     "name": "stdout",
     "output_type": "stream",
     "text": [
      "Bossbaby\n",
      "100\n",
      "1\n"
     ]
    }
   ],
   "source": [
    "class Movie:\n",
    "    count = 0\n",
    "    \n",
    "    def __init__(self, title, audience):\n",
    "        self.__title = title\n",
    "        self.__audience = audience\n",
    "        Movie.count += 1\n",
    "        \n",
    "    def get_title(self):\n",
    "        return self.__title\n",
    "    \n",
    "    def set_title(self, title):\n",
    "        self.__title = title\n",
    "        \n",
    "    def get_audience(self):\n",
    "        return self.__audience\n",
    "    \n",
    "    def set_audience(self, audience):\n",
    "        self.__audience = audience\n",
    "        \n",
    "movie1 = Movie(\"Bossbaby\", 100)\n",
    "\n",
    "print(movie1.get_title())\n",
    "print(movie1.get_audience())\n",
    "print(Movie.count)\n",
    "\n",
    "\n",
    "        "
   ]
  },
  {
   "cell_type": "code",
   "execution_count": 2,
   "metadata": {},
   "outputs": [
    {
     "name": "stdout",
     "output_type": "stream",
     "text": [
      "[0, -7, -11, -20, -27]\n"
     ]
    }
   ],
   "source": [
    "func = lambda x: (2*x**3) - (9 * x **2)\n",
    "result1 = func(-1)\n",
    "result2 = func(0)\n",
    "result3 = func(1)\n",
    "result4 = func(2)\n",
    "result5 = func(3)\n",
    "\n",
    "mylist = [func(-1), func(0), func(1), func(2), func(3)]\n",
    "newlist = []\n",
    "\n",
    "newlist.append(max(mylist))\n",
    "mylist.remove(max(mylist))\n",
    "newlist.append(max(mylist))\n",
    "mylist.remove(max(mylist))\n",
    "newlist.append(max(mylist))\n",
    "mylist.remove(max(mylist))\n",
    "newlist.append(max(mylist))\n",
    "mylist.remove(max(mylist))\n",
    "newlist.append(max(mylist))\n",
    "mylist.remove(max(mylist))\n",
    "print(newlist)"
   ]
  },
  {
   "cell_type": "code",
   "execution_count": 46,
   "metadata": {},
   "outputs": [
    {
     "name": "stdout",
     "output_type": "stream",
     "text": [
      "[0, 1, -1, 2, 3]\n"
     ]
    }
   ],
   "source": [
    "x = [-1, 0, 1, 2, 3]\n",
    "\n",
    "f = sorted(x, key = lambda x : 2*x**3 - 9*x**2, reverse = True)\n",
    "\n",
    "print(f)\n"
   ]
  },
  {
   "cell_type": "code",
   "execution_count": 58,
   "metadata": {},
   "outputs": [
    {
     "name": "stdout",
     "output_type": "stream",
     "text": [
      "가게 이름 : 하이마트, 위치 : 대구, 파는 물건 : 가전제품, 손님 수 : 300\n"
     ]
    }
   ],
   "source": [
    "class Supermarket:\n",
    "    def __init__(self, location, name, product, customer):\n",
    "        self.location = location\n",
    "        self.name = name\n",
    "        self.product = product\n",
    "        self.customer = customer\n",
    "    def print_location(self):\n",
    "        print(self.location)     ### 위치를 출력하는 함수\n",
    "    def change_category(self):\n",
    "        self.product = input()   ### 받은 인자로 파는 물건을 바꾸는 함수\n",
    "    def show_list(self):         \n",
    "        print(self.product)      ### 현재 파는 물건 출력\n",
    "    def enter_customer(self):    \n",
    "        self.customer += 1       ### 손님의 수를 1씩 늘리는 함수\n",
    "        \n",
    "    def show_info(self):\n",
    "        print(f'가게 이름 : {self.name}, 위치 : {self.location}, 파는 물건 : {self.product}, 손님 수 : {self.customer}')\n",
    "   \n",
    "inf = Supermarket('대구','하이마트','가전제품','300')\n",
    "inf.show_info()"
   ]
  },
  {
   "cell_type": "code",
   "execution_count": 64,
   "metadata": {},
   "outputs": [
    {
     "name": "stdout",
     "output_type": "stream",
     "text": [
      "['1', '3', 'salt']\n",
      "Seoul ['1', '3', 'salt'] 3\n",
      "2\n"
     ]
    }
   ],
   "source": [
    "class Supermarket():\n",
    "  count = 0\n",
    "  def __init__(self, location:str, name:str, product:list, customer:int):\n",
    "    self.location = location\n",
    "    self.name = name\n",
    "    self.product = product\n",
    "    self.customer = customer\n",
    "    Supermarket.count += 1\n",
    "  def print_location(self):\n",
    "    print(self.location)\n",
    "  def change_categoty(self,product,chage_product):\n",
    "    self.product.remove(product)\n",
    "    self.product.append(chage_product)\n",
    "  def show_list(self):\n",
    "    print(self.product)\n",
    "  def enter_customer(self):\n",
    "    self.customer += 1\n",
    "  def show_info(self):\n",
    "    print(self.location, self.product, self.customer)\n",
    "Super1 = Supermarket(\"Seoul\", \"abc\", ['1','2','3'], 3)\n",
    "Super2 = Supermarket(\"LA\", \"qwe\", \"coke\", 5)\n",
    "Super1.change_categoty(\"2\",\"salt\")\n",
    "Super1.show_list()\n",
    "Super1.show_info()\n",
    "print(Super1.count)"
   ]
  }
 ],
 "metadata": {
  "kernelspec": {
   "display_name": "base",
   "language": "python",
   "name": "python3"
  },
  "language_info": {
   "codemirror_mode": {
    "name": "ipython",
    "version": 3
   },
   "file_extension": ".py",
   "mimetype": "text/x-python",
   "name": "python",
   "nbconvert_exporter": "python",
   "pygments_lexer": "ipython3",
   "version": "3.11.5"
  }
 },
 "nbformat": 4,
 "nbformat_minor": 2
}
