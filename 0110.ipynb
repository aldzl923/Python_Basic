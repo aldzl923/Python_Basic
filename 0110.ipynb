{
 "cells": [
  {
   "cell_type": "code",
   "execution_count": null,
   "metadata": {},
   "outputs": [],
   "source": [
    "# 움직이는 거북이 모듈생성\n",
    "\n",
    "import time\n",
    "from turtle import Turtle\n",
    "\n",
    "john = Turtle()\n",
    "print(john)\n",
    "john.shape(\"turtle\")\n",
    "john.color(\"red\", \"green\")\n",
    "while True:\n",
    "    john.forward(5)\n",
    "    john.left(5)\n",
    "    time.sleep(1)"
   ]
  },
  {
   "cell_type": "code",
   "execution_count": 6,
   "metadata": {},
   "outputs": [
    {
     "name": "stdout",
     "output_type": "stream",
     "text": [
      "Hello, this is test2.txt!\n",
      "Second line.\n",
      "Third line.\n",
      "0\n",
      "['Hello, this is test2.txt!\\n', 'Second line.\\n', 'Third line.']\n"
     ]
    }
   ],
   "source": [
    "# 파일을 쓰기 모드(\"w\")로 엽니다.\n",
    "with open(\"./test2.txt\", \"w\") as f:\n",
    "    # 파일에 내용을 쓰기\n",
    "    f.write(\"Hello, this is test2.txt!\\nSecond line.\\nThird line.\")\n",
    "\n",
    "# 이후의 코드는 이전과 동일합니다.\n",
    "f4 = open(\"./test2.txt\", \"r\")\n",
    "print(f4.read())\n",
    "f4.seek(0)\n",
    "print(f4.tell())\n",
    "context = f4.readlines()\n",
    "print(context)\n",
    "f4.close()"
   ]
  },
  {
   "cell_type": "code",
   "execution_count": 20,
   "metadata": {},
   "outputs": [],
   "source": [
    "info = []\n",
    "\n",
    "for _ in range(3):\n",
    "    text = input(\"아이디 비밀번호 ex) 유즈 123\")\n",
    "    info.append(text)\n",
    "    \n",
    "with open(\"./text.txt\", \"a\") as f:\n",
    "    for line in info:\n",
    "        f.write(line + \"\\n\")"
   ]
  },
  {
   "cell_type": "code",
   "execution_count": 18,
   "metadata": {},
   "outputs": [],
   "source": [
    "# 실습 1\n",
    "info = []\n",
    "\n",
    "for _ in range(3):\n",
    "    name = input(\"이름을 입력하세요\")\n",
    "    password = input(\"비밀번호를 입력하세요.\")\n",
    "    info.append({\"name\": name, \"password\": password})\n",
    "    \n",
    "    \n",
    "with open(\"./member.txt\", \"a\") as f:\n",
    "    for user_info in info:\n",
    "        f.write(f\"{user_info['name']}:{user_info['password']}\\n\")"
   ]
  },
  {
   "cell_type": "code",
   "execution_count": 19,
   "metadata": {},
   "outputs": [
    {
     "name": "stdout",
     "output_type": "stream",
     "text": [
      "로그인 성공\n"
     ]
    }
   ],
   "source": [
    "# 실습 2\n",
    "login_name = input(\"이름을 입력하세요\")\n",
    "login_password = input(\"비밀번호를 입력하세요\")\n",
    "\n",
    "with open(\"./member.txt\", \"r\") as f:\n",
    "    for line in f:\n",
    "        stored_name, stored_password = line.strip().split(\":\")\n",
    "        if login_name == stored_name and login_password == stored_password:\n",
    "            print(\"로그인 성공\")\n",
    "            break\n",
    "    else:\n",
    "        print(\"로그인 실패\")\n",
    "        \n",
    "\n"
   ]
  },
  {
   "cell_type": "code",
   "execution_count": null,
   "metadata": {},
   "outputs": [],
   "source": [
    "# 실습 3\n",
    "\n",
    "info = []\n",
    "login_name = input(\"이름을 입력하세요\")\n",
    "login_password = input(\"비밀번호를 입력하세요\")\n",
    "\n",
    "with open(\"./member.txt\", \"r\") as f:\n",
    "    for line in f:\n",
    "        stored_name, stored_password = line.strip().split(\":\")\n",
    "        if login_name == stored_name and login_password == stored_password:\n",
    "            print(\"로그인 성공\")\n",
    "            number = input(\"전화번호를 입력하세요\")\n",
    "            for _ in range(1):\n",
    "                info.append({\"number\": number})\n",
    "            \n",
    "            with open(\"./member.txt\", \"+\") as f:\n",
    "                for user_info in info:\n",
    "                    f.write(f\"{user_info['number']}\\n\")\n",
    "        \n",
    "        else:   \n",
    "            print(\"로그인 실패\")\n",
    "            \n",
    "            \n",
    "           \n",
    "    \n",
    "   \n",
    "            \n",
    "            \n",
    "           \n",
    "        "
   ]
  },
  {
   "cell_type": "code",
   "execution_count": null,
   "metadata": {},
   "outputs": [],
   "source": [
    "name = input(\"input name\")\n",
    "pw = input(\"input pw\")\n",
    "isLogin = False\n",
    "with open(\"member.txt\",\"r\") as file:\n",
    "  lines = file.readlines()\n",
    "  file.seek(0)\n",
    "  for line in lines:\n",
    "    text = line.split()# [ name, pw ]\n",
    "    if len(text) >= 2 and text[0] == name and text[1] == pw:\n",
    "      isLogin= True\n",
    "      break\n",
    "if isLogin:\n",
    "  print(\"log in\")\n",
    "else :\n",
    "  print(\"log in failed\")\n",
    "if isLogin:\n",
    "  telNum = input(\"input tel num\")\n",
    "  with open(\"member_tel.txt\",\"r+\") as file:\n",
    "    lines = file.readlines()\n",
    "    file.seek(0)\n",
    "    for i, line in enumerate(lines): # mylist = ['A', 'B', 'C'] -> (0, 'A'), (1, 'B'), (2,'C')\n",
    "      text = line.split()\n",
    "      if text and text[0] == name:\n",
    "        lines[i] = f\"{name} {telNum}\\n\"\n",
    "        break\n",
    "    else:\n",
    "      lines.append(f\"{name} {telNum}\\n\")\n",
    "    file.writelines(lines)"
   ]
  },
  {
   "cell_type": "code",
   "execution_count": 3,
   "metadata": {},
   "outputs": [
    {
     "name": "stdout",
     "output_type": "stream",
     "text": [
      "정수가 아님! 정수를 입력해주세요!\n",
      "정수 입력 성공 : 3\n"
     ]
    }
   ],
   "source": [
    "# 사용자가 제대로 된 정수를 입력할 때 까지 반복하여 입력 받기\n",
    "while True:\n",
    "    try:\n",
    "        num = int(input('정수 입력'))\n",
    "    except:\n",
    "        print('정수가 아님! 정수를 입력해주세요!')\n",
    "    else:\n",
    "        print(f\"정수 입력 성공 : {num}\")\n",
    "        break"
   ]
  },
  {
   "cell_type": "code",
   "execution_count": 6,
   "metadata": {},
   "outputs": [
    {
     "name": "stdout",
     "output_type": "stream",
     "text": [
      "[3 1 2]\n"
     ]
    },
    {
     "data": {
      "text/plain": [
       "numpy.ndarray"
      ]
     },
     "execution_count": 6,
     "metadata": {},
     "output_type": "execute_result"
    }
   ],
   "source": [
    "import numpy as np\n",
    "x = np.array([3,1,2])\n",
    "print(x)\n",
    "type(x)"
   ]
  },
  {
   "cell_type": "code",
   "execution_count": 5,
   "metadata": {},
   "outputs": [
    {
     "name": "stdout",
     "output_type": "stream",
     "text": [
      "[0. 0. 0. 0. 0. 0. 0. 0. 0. 0.]\n"
     ]
    }
   ],
   "source": [
    "#실습 1\n",
    "import numpy as np\n",
    "num1 = np.zeros(10)\n",
    "print(num1)\n",
    "\n"
   ]
  },
  {
   "cell_type": "code",
   "execution_count": 8,
   "metadata": {},
   "outputs": [
    {
     "name": "stdout",
     "output_type": "stream",
     "text": [
      "[0. 0. 0. 0. 1. 0. 0. 0. 0. 0.]\n"
     ]
    }
   ],
   "source": [
    "\n",
    "#실습 2\n",
    "import numpy as np\n",
    "num1 = np.zeros(10)\n",
    "num1[4] = 1\n",
    "\n",
    "print(num1)\n"
   ]
  },
  {
   "cell_type": "code",
   "execution_count": 3,
   "metadata": {},
   "outputs": [
    {
     "name": "stdout",
     "output_type": "stream",
     "text": [
      "[10 11 12 13 14 15 16 17 18 19 20 21 22 23 24 25 26 27 28 29 30]\n"
     ]
    }
   ],
   "source": [
    "#실습 3\n",
    "import numpy as np\n",
    "num = np.arange(10,31)\n",
    "print(num)\n"
   ]
  },
  {
   "cell_type": "code",
   "execution_count": 23,
   "metadata": {},
   "outputs": [
    {
     "name": "stdout",
     "output_type": "stream",
     "text": [
      "[[74  2]\n",
      " [43 25]]\n"
     ]
    }
   ],
   "source": [
    "#실습 4\n",
    "import numpy as np\n",
    "\n",
    "\n",
    "n4 = np.random.randint(0,100, size=(2,2))\n",
    "print(n4)"
   ]
  },
  {
   "cell_type": "code",
   "execution_count": 21,
   "metadata": {},
   "outputs": [
    {
     "name": "stdout",
     "output_type": "stream",
     "text": [
      "[[0.67126433 0.73433915 0.09105149 0.29930283]\n",
      " [0.63027067 0.68968599 0.16239223 0.50011954]]\n"
     ]
    }
   ],
   "source": [
    "#실습 5\n",
    "import numpy as np\n",
    "\n",
    "n5 = np.random.rand(2,4)\n",
    "print(n5)"
   ]
  },
  {
   "cell_type": "code",
   "execution_count": 13,
   "metadata": {},
   "outputs": [
    {
     "name": "stdout",
     "output_type": "stream",
     "text": [
      "[[35 36 37 38]\n",
      " [39 40 41 42]\n",
      " [43 44 45 46]\n",
      " [47 48 49 50]\n",
      " [51 52 53 54]\n",
      " [55 56 57 58]\n",
      " [59 60 61 62]\n",
      " [63 64 65 66]\n",
      " [67 68 69 70]\n",
      " [71 72 73 74]]\n"
     ]
    }
   ],
   "source": [
    "#실습 6\n",
    "import numpy as np\n",
    "n6 = np.arange(35,75)\n",
    "n6.shape=(10,4)\n",
    "\n",
    "print(n6)"
   ]
  },
  {
   "cell_type": "code",
   "execution_count": 14,
   "metadata": {},
   "outputs": [
    {
     "name": "stdout",
     "output_type": "stream",
     "text": [
      "[[71 72 73 74]\n",
      " [67 68 69 70]\n",
      " [63 64 65 66]\n",
      " [59 60 61 62]\n",
      " [55 56 57 58]\n",
      " [51 52 53 54]\n",
      " [47 48 49 50]\n",
      " [43 44 45 46]\n",
      " [39 40 41 42]\n",
      " [35 36 37 38]]\n"
     ]
    }
   ],
   "source": [
    "import numpy as np\n",
    "n6 = np.arange(35,75)\n",
    "n6.shape=(10,4)\n",
    "n7 = n6[::-1]\n",
    "\n",
    "print(n7)"
   ]
  },
  {
   "cell_type": "code",
   "execution_count": 2,
   "metadata": {},
   "outputs": [
    {
     "name": "stdout",
     "output_type": "stream",
     "text": [
      "[  1   2   3   4   5   7   8   9  10  11  24 100]\n"
     ]
    }
   ],
   "source": [
    "#실습 1\n",
    "import numpy as np\n",
    "a = np.array = [1,1,2,3,4,5,5,5,5,7,8,9,10,11,24,100]\n",
    "unique_a = np.unique(a)\n",
    "print(unique_a)"
   ]
  },
  {
   "cell_type": "code",
   "execution_count": 12,
   "metadata": {},
   "outputs": [
    {
     "data": {
      "text/plain": [
       "184"
      ]
     },
     "execution_count": 12,
     "metadata": {},
     "output_type": "execute_result"
    }
   ],
   "source": [
    "#실습 2\n",
    "import numpy as np\n",
    "a = np.array = [1,1,2,3,4,5,5,5,5,7,8,9,10,11,24,100]\n",
    "unique_a = np.unique(a)\n",
    "\n",
    "np.max(unique_a)\n",
    "np.min(unique_a)\n",
    "np.mean(unique_a)\n",
    "#실습 3\n",
    "np.sum(unique_a)\n",
    "\n"
   ]
  },
  {
   "cell_type": "code",
   "execution_count": 1,
   "metadata": {},
   "outputs": [
    {
     "data": {
      "text/plain": [
       "5.0"
      ]
     },
     "execution_count": 1,
     "metadata": {},
     "output_type": "execute_result"
    }
   ],
   "source": [
    "#실습 4\n",
    "import numpy as np\n",
    "a = np.array = [1,1,2,3,4,5,5,5,5,7,8,9,10,11,24,100]\n",
    "b = np.sort(a)\n",
    "\n",
    "np.median(b)\n",
    "\n"
   ]
  }
 ],
 "metadata": {
  "kernelspec": {
   "display_name": "base",
   "language": "python",
   "name": "python3"
  },
  "language_info": {
   "codemirror_mode": {
    "name": "ipython",
    "version": 3
   },
   "file_extension": ".py",
   "mimetype": "text/x-python",
   "name": "python",
   "nbconvert_exporter": "python",
   "pygments_lexer": "ipython3",
   "version": "3.11.5"
  }
 },
 "nbformat": 4,
 "nbformat_minor": 2
}
